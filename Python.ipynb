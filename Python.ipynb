{
  "nbformat": 4,
  "nbformat_minor": 0,
  "metadata": {
    "colab": {
      "provenance": []
    },
    "kernelspec": {
      "name": "python3",
      "display_name": "Python 3"
    },
    "language_info": {
      "name": "python"
    }
  },
  "cells": [
    {
      "cell_type": "markdown",
      "source": [
        "# Python Basic Questions"
      ],
      "metadata": {
        "id": "j-anUVwncRfz"
      }
    },
    {
      "cell_type": "markdown",
      "source": [
        "1.  What is Python, and why is it popular ?\n",
        "    - Python is a high level , interpreted  programming language known for its simplicity and readability.It was created by Guido Van Rossum in 1991.\n",
        "\n",
        "    Why python is popular:\n",
        "       - Python is widely used in industry.\n",
        "\n",
        "       - It is easy to learn and understand.\n",
        "       - It has a large number of libraries.\n",
        "       - It is free and open source.\n",
        "       - It has a large community support.\n",
        "\n",
        "\n",
        "2. What is an interpreter in Python ?\n",
        "\n",
        "   - Interpreter is a python executor that runs the code line by line . It reads each statement and translates it into machine language . Because of interpreter , Python is easy to test and debug. The interpreter is the main tool that allows python program to run. The most commonly used interpreter is CPython.\n",
        "\n",
        "3. What are pre-defined keywords in Python ?\n",
        "   \n",
        "   - Predefined keywords in python are reserved words that already have a fixed meaning and purpose in the language . We cannot use keywords as a variable name , functions name and identifiers . Python has 35 keywords.\n",
        "\n",
        "   - Examples of pre defined keywords are if , else , true , import , false , while , for , break , continue etc\n",
        "\n",
        "4. Can keywords be used as variable names ?\n",
        "\n",
        "   - No, keywords cannot be used as variable names because keywords are reserved words that already have a fixed meaning and purpose in languages . Keywords are a part of python syntax .\n",
        "\n",
        "   Example of keywords are if , else , elif , class , def , None etc\n",
        "\n",
        "   Example of variables name are name , age , length , area , a , b etc\n",
        "\n",
        "\n",
        "\n",
        "5. What is mutability in Python ?\n",
        "\n",
        "   - Mutability means something can be changed after it is created or not . In python , some data types are mutable means we can change their values like list , dictionary and sets and some data types are immutable means we cannot change their value like tuple , string .\n",
        "\n",
        "6. Why are lists mutable, but tuples are immutable ?\n",
        "\n",
        "   - Lists are mutable because we can change their content after creating them . It allows add , update or remove functions . Tuples are immutable means we cannot make any changes after creating . This design makes tuple faster and safe for fixed data while lists are better when we need flexibilty.\n",
        "\n",
        "7. What is the difference between “==” and “is” operators in Python ?\n",
        "\n",
        "\n",
        "   - The \"==\" operator checks the two objects have same value even if they are stored in different memory . The \"is\" operator checks the two objects are exactly the same in memory.\n",
        "\n",
        "8. What are logical operators in Python ?\n",
        "\n",
        "   - Logical operators are used to combine conditions in a prigram . Python has three logical operators : AND , OR , and NOT . The AND  operator is true only when both conditions are true . the OR operator is true if atleast one condition is true . The NOT operator reverse the result of condition.\n",
        "\n",
        "9. What is type casting in Python ?\n",
        "\n",
        "   - Type casting change the type of data into another type . For example we can change an integer into a float ar a string . Implicit and explicit are two types of type casting .\n",
        "\n",
        "10. What is the difference between implicit and explicit type casting ?\n",
        "\n",
        "    - Python automatically converts one type into another when needed it is called implicit type casting . when the programmer changes the type using functons like int() , float() or str() is called explicit type casting .\n",
        "\n",
        "11. What is the purpose of conditional statements in Python ?\n",
        "    \n",
        "    - Conditional statements allows a program to make decisions . with if , elif , else . python can choose different paths depending on conditions . For example a program can check if someone marks are above 33 and show \"Pass\" otherwise show fail .\n",
        "\n",
        "12. How does the elif statement work ?\n",
        "\n",
        "    - The elif statement is used when we wnt to check multiple conditions . it comes after if statement and is only checked if the first condition is false . It helps us to avoid writing many if statements .\n",
        "\n",
        "13. What is the difference between for and while loops ?\n",
        "\n",
        "    - A for loop is used when we know how many times we want to run a block of code . A while loop is used when we don't know the how many times to run a block of code and we want to keep repeating until a condition because false .\n",
        "\n",
        "14.  Describe a scenario where a while loop is more suitable than a for loop.\n",
        "    \n",
        "     - In a login system , we can keep asking the user for a password until they enter the correct one . Since we don't know how many attempts they will take , a while loop is more suitable than for loop ."
      ],
      "metadata": {
        "id": "nFEWKOvNcHfy"
      }
    },
    {
      "cell_type": "markdown",
      "source": [
        "# Practical Questions"
      ],
      "metadata": {
        "id": "q1r9DfeUzvW0"
      }
    },
    {
      "cell_type": "markdown",
      "source": [
        "1. Write a Python program to print \"Hello, World!."
      ],
      "metadata": {
        "id": "JyDyr3Uz0dA1"
      }
    },
    {
      "cell_type": "code",
      "source": [
        "print(\"Hello,World!\")"
      ],
      "metadata": {
        "colab": {
          "base_uri": "https://localhost:8080/"
        },
        "id": "XN89TlGF0lwW",
        "outputId": "c5370ace-2f85-4d13-8872-d91fb53d616a"
      },
      "execution_count": null,
      "outputs": [
        {
          "output_type": "stream",
          "name": "stdout",
          "text": [
            "Hello,World!\n"
          ]
        }
      ]
    },
    {
      "cell_type": "markdown",
      "source": [
        "2. Write a Python program that displays your name and age."
      ],
      "metadata": {
        "id": "-uBKdb8l1Uwk"
      }
    },
    {
      "cell_type": "code",
      "source": [
        "name = \"Khushi\"\n",
        "age = 19\n",
        "print(name)\n",
        "print(age)\n",
        "\n"
      ],
      "metadata": {
        "colab": {
          "base_uri": "https://localhost:8080/"
        },
        "id": "t-BcHUuR1brS",
        "outputId": "3c6c1855-c2cf-4e12-c22b-97ac19ed51fe"
      },
      "execution_count": null,
      "outputs": [
        {
          "output_type": "stream",
          "name": "stdout",
          "text": [
            "Khushi\n",
            "19\n"
          ]
        }
      ]
    },
    {
      "cell_type": "markdown",
      "source": [
        "3. Write code to print all the pre-defined keywords in Python using the keyword library ."
      ],
      "metadata": {
        "id": "J8tKEk_c12Nt"
      }
    },
    {
      "cell_type": "code",
      "source": [
        "import keyword as kw\n",
        "print(kw.kwlist)"
      ],
      "metadata": {
        "id": "WycWx5Ue2CYC",
        "colab": {
          "base_uri": "https://localhost:8080/"
        },
        "outputId": "bb4eff04-b054-421d-b879-9f82c092e2a8"
      },
      "execution_count": null,
      "outputs": [
        {
          "output_type": "stream",
          "name": "stdout",
          "text": [
            "['False', 'None', 'True', 'and', 'as', 'assert', 'async', 'await', 'break', 'class', 'continue', 'def', 'del', 'elif', 'else', 'except', 'finally', 'for', 'from', 'global', 'if', 'import', 'in', 'is', 'lambda', 'nonlocal', 'not', 'or', 'pass', 'raise', 'return', 'try', 'while', 'with', 'yield']\n"
          ]
        }
      ]
    },
    {
      "cell_type": "markdown",
      "source": [
        "4. Write a program that checks if a given word is a Python keyword ."
      ],
      "metadata": {
        "id": "C920PVbv2Jmy"
      }
    },
    {
      "cell_type": "code",
      "source": [
        "import keyword as kw\n",
        "word = input(\"enter a word: \")\n",
        "if word in kw.kwlist:\n",
        "  print(\"yes it is a keyword\")\n",
        "else:\n",
        "  print(\"no it is not a keyword\")\n"
      ],
      "metadata": {
        "id": "dcIjwFEQ2KVn",
        "colab": {
          "base_uri": "https://localhost:8080/"
        },
        "outputId": "d8181c28-e413-44ad-f95b-075a281d6f32"
      },
      "execution_count": 5,
      "outputs": [
        {
          "output_type": "stream",
          "name": "stdout",
          "text": [
            "enter a word: def\n",
            "yes it is a keyword\n"
          ]
        }
      ]
    },
    {
      "cell_type": "markdown",
      "source": [
        "5. . Create a list and tuple in Python, and demonstrate how attempting to change an element works differently\n",
        "for each."
      ],
      "metadata": {
        "id": "f_xeQSg42K3S"
      }
    },
    {
      "cell_type": "code",
      "source": [
        "list = [1,2,3,4,5]\n",
        "tuple = (1,2,3,4,5)\n",
        "list[0] = 6\n",
        "print(list)\n",
        "tuple[0] = 6\n",
        "print(tuple)"
      ],
      "metadata": {
        "id": "9hVApVap2LIs",
        "colab": {
          "base_uri": "https://localhost:8080/",
          "height": 211
        },
        "outputId": "2c4c398b-dc0a-4e92-ece2-926a54391b55"
      },
      "execution_count": 27,
      "outputs": [
        {
          "output_type": "stream",
          "name": "stdout",
          "text": [
            "[6, 2, 3, 4, 5]\n"
          ]
        },
        {
          "output_type": "error",
          "ename": "TypeError",
          "evalue": "'tuple' object does not support item assignment",
          "traceback": [
            "\u001b[0;31m---------------------------------------------------------------------------\u001b[0m",
            "\u001b[0;31mTypeError\u001b[0m                                 Traceback (most recent call last)",
            "\u001b[0;32m/tmp/ipython-input-1620850841.py\u001b[0m in \u001b[0;36m<cell line: 0>\u001b[0;34m()\u001b[0m\n\u001b[1;32m      3\u001b[0m \u001b[0mlist\u001b[0m\u001b[0;34m[\u001b[0m\u001b[0;36m0\u001b[0m\u001b[0;34m]\u001b[0m \u001b[0;34m=\u001b[0m \u001b[0;36m6\u001b[0m\u001b[0;34m\u001b[0m\u001b[0;34m\u001b[0m\u001b[0m\n\u001b[1;32m      4\u001b[0m \u001b[0mprint\u001b[0m\u001b[0;34m(\u001b[0m\u001b[0mlist\u001b[0m\u001b[0;34m)\u001b[0m\u001b[0;34m\u001b[0m\u001b[0;34m\u001b[0m\u001b[0m\n\u001b[0;32m----> 5\u001b[0;31m \u001b[0mtuple\u001b[0m\u001b[0;34m[\u001b[0m\u001b[0;36m0\u001b[0m\u001b[0;34m]\u001b[0m \u001b[0;34m=\u001b[0m \u001b[0;36m6\u001b[0m\u001b[0;34m\u001b[0m\u001b[0;34m\u001b[0m\u001b[0m\n\u001b[0m\u001b[1;32m      6\u001b[0m \u001b[0mprint\u001b[0m\u001b[0;34m(\u001b[0m\u001b[0mtuple\u001b[0m\u001b[0;34m)\u001b[0m\u001b[0;34m\u001b[0m\u001b[0;34m\u001b[0m\u001b[0m\n",
            "\u001b[0;31mTypeError\u001b[0m: 'tuple' object does not support item assignment"
          ]
        }
      ]
    },
    {
      "cell_type": "markdown",
      "source": [
        "6.  Write a function to demonstrate the behavior of mutable and immutable arguments."
      ],
      "metadata": {
        "id": "dRnqsMjw2LcW"
      }
    },
    {
      "cell_type": "code",
      "source": [
        "def modify(a,my_list):\n",
        "  a = 10\n",
        "  my_list.append(10)\n",
        "  print(\"Inside function: a =\",a)\n",
        "  print(\"Inside function: my_list =\",my_list)\n",
        "\n",
        "  a = 20\n",
        "  my_list.append(20)\n",
        "  print(\"Inside function: a =\",a)\n",
        "  print(\"Inside function: my_list =\",my_list)\n",
        "\n",
        "  a = 30\n",
        "  my_list.append(30)\n",
        "  print(\"Inside function: a =\",a)\n",
        "  print(\"Inside function: my_list =\",my_list)\n",
        "\n",
        "  a = 40\n",
        "  my_list.append(40)\n",
        "  print(\"Inside function: a =\",a)\n",
        "  print(\"Inside function: my_list =\",my_list)\n",
        "\n",
        "  a = 50\n",
        "  my_list.append(50)\n",
        "  print(\"Inside function: a =\",a)\n",
        "  print(\"Inside function: my_list =\",my_list)\n",
        "\n",
        "a = 0\n",
        "my_list = []\n",
        "print(\"Before function call: a =\",a)\n",
        "print(\"Before function call: my_list =\",my_list)\n",
        "modify(a,my_list)\n",
        "\n",
        "\n",
        "\n",
        "\n"
      ],
      "metadata": {
        "id": "fnEklyud2LxC",
        "colab": {
          "base_uri": "https://localhost:8080/"
        },
        "outputId": "15cb50fa-0eb5-4584-ab01-f37083a7bb78"
      },
      "execution_count": 34,
      "outputs": [
        {
          "output_type": "stream",
          "name": "stdout",
          "text": [
            "Before function call: a = 0\n",
            "Before function call: my_list = []\n",
            "Inside function: a = 10\n",
            "Inside function: my_list = [10]\n",
            "Inside function: a = 20\n",
            "Inside function: my_list = [10, 20]\n",
            "Inside function: a = 30\n",
            "Inside function: my_list = [10, 20, 30]\n",
            "Inside function: a = 40\n",
            "Inside function: my_list = [10, 20, 30, 40]\n",
            "Inside function: a = 50\n",
            "Inside function: my_list = [10, 20, 30, 40, 50]\n"
          ]
        }
      ]
    },
    {
      "cell_type": "markdown",
      "source": [
        "7.  Write a program that performs basic arithmetic operations on two user-input numbers."
      ],
      "metadata": {
        "id": "Kf6-IITK2Mc3"
      }
    },
    {
      "cell_type": "code",
      "source": [
        "a = input(\"enter a first numbeer: \")\n",
        "b = input(\"enter a second number: \")\n",
        "a = int(a)\n",
        "b = int(b)\n",
        "print(a+b)\n",
        "print(a-b)\n",
        "print(a*b)\n",
        "print(a/b)"
      ],
      "metadata": {
        "id": "01ykaK_12MwB",
        "colab": {
          "base_uri": "https://localhost:8080/"
        },
        "outputId": "8a9b6e9c-76b1-4dd6-8766-e88673f53f2b"
      },
      "execution_count": 6,
      "outputs": [
        {
          "output_type": "stream",
          "name": "stdout",
          "text": [
            "enter a first numbeer: 6\n",
            "enter a second number: 2\n",
            "8\n",
            "4\n",
            "12\n",
            "3.0\n"
          ]
        }
      ]
    },
    {
      "cell_type": "markdown",
      "source": [
        "8.  Write a program to demonstrate the use of logical operators."
      ],
      "metadata": {
        "id": "Ow6AHjaN2NF-"
      }
    },
    {
      "cell_type": "code",
      "source": [
        "a = input(\"enter a first number: \")\n",
        "b = input(\"enter a second number: \")\n",
        "a = int(a)\n",
        "b = int(b)\n",
        "if a>0 and b>0:\n",
        "  print(\"both are positive\")\n",
        "elif a>0 or b>0:\n",
        "  print(\"atleast one is positive\")\n",
        "else:\n",
        "  print(\"both are negative\")"
      ],
      "metadata": {
        "id": "eZgpnJ9D2NX8",
        "colab": {
          "base_uri": "https://localhost:8080/"
        },
        "outputId": "e833e742-c2b2-41e8-aadd-b0dfc88cb3f9"
      },
      "execution_count": 29,
      "outputs": [
        {
          "output_type": "stream",
          "name": "stdout",
          "text": [
            "enter a first number: 9\n",
            "enter a second number: 8\n",
            "both are positive\n"
          ]
        }
      ]
    },
    {
      "cell_type": "markdown",
      "source": [
        "9.  Write a Python program to convert user input from string to integer, float, and boolean types ."
      ],
      "metadata": {
        "id": "Mh5hiDjA3ahW"
      }
    },
    {
      "cell_type": "code",
      "source": [
        "a = input(\"enter a string: \")\n",
        "print(int(a))\n",
        "print(float(a))\n",
        "print(bool(a))"
      ],
      "metadata": {
        "id": "hXXTdrOJ3chv",
        "colab": {
          "base_uri": "https://localhost:8080/"
        },
        "outputId": "3173ff89-4440-4533-d02e-659963ef2081"
      },
      "execution_count": 8,
      "outputs": [
        {
          "output_type": "stream",
          "name": "stdout",
          "text": [
            "enter a string: 2\n",
            "2\n",
            "2.0\n",
            "True\n"
          ]
        }
      ]
    },
    {
      "cell_type": "markdown",
      "source": [
        "10. Write code to demonstrate type casting with list elements ."
      ],
      "metadata": {
        "id": "8vLsUvwJ3c2E"
      }
    },
    {
      "cell_type": "code",
      "source": [
        "list = [1,2,3,4,5]\n",
        "print(list)\n",
        "list = [str(i) for i in list]\n",
        "print(list)"
      ],
      "metadata": {
        "id": "7ZCdwKIh3dGb",
        "colab": {
          "base_uri": "https://localhost:8080/"
        },
        "outputId": "fa36538f-dac0-4b8b-9a44-476439c707ee"
      },
      "execution_count": 28,
      "outputs": [
        {
          "output_type": "stream",
          "name": "stdout",
          "text": [
            "[1, 2, 3, 4, 5]\n",
            "['1', '2', '3', '4', '5']\n"
          ]
        }
      ]
    },
    {
      "cell_type": "markdown",
      "source": [
        "11. Write a program that checks if a number is positive, negative, or zero."
      ],
      "metadata": {
        "id": "JCr6U5SW3dW0"
      }
    },
    {
      "cell_type": "code",
      "source": [
        "a = input(\"enter a number: \")\n",
        "a = int(a)\n",
        "if a>0:\n",
        "  print(\"It is a positive number\")\n",
        "elif a<0:\n",
        "  print(\"It is a negative number\")\n",
        "else:\n",
        "  print(\"It is a zero\")"
      ],
      "metadata": {
        "id": "7gA19-Oh3do2",
        "colab": {
          "base_uri": "https://localhost:8080/"
        },
        "outputId": "95273f35-e871-4872-f3ca-148aa0d4ef8f"
      },
      "execution_count": 10,
      "outputs": [
        {
          "output_type": "stream",
          "name": "stdout",
          "text": [
            "enter a number: 0\n",
            "It is a zero\n"
          ]
        }
      ]
    },
    {
      "cell_type": "markdown",
      "source": [
        "12.  Write a for loop to print numbers from 1 to 10."
      ],
      "metadata": {
        "id": "eTOlv41z3d9Y"
      }
    },
    {
      "cell_type": "code",
      "source": [
        "for i in range(1,11):\n",
        "  print(i)"
      ],
      "metadata": {
        "colab": {
          "base_uri": "https://localhost:8080/"
        },
        "id": "-WlyOqxR3eOR",
        "outputId": "8524baad-22a3-42b6-d8cf-59183394876f"
      },
      "execution_count": null,
      "outputs": [
        {
          "output_type": "stream",
          "name": "stdout",
          "text": [
            "1\n",
            "2\n",
            "3\n",
            "4\n",
            "5\n",
            "6\n",
            "7\n",
            "8\n",
            "9\n",
            "10\n"
          ]
        }
      ]
    },
    {
      "cell_type": "markdown",
      "source": [
        "13.  Write a Python program to find the sum of all even numbers between 1 and 50."
      ],
      "metadata": {
        "id": "o8OYGbcE3eiZ"
      }
    },
    {
      "cell_type": "code",
      "source": [
        "sum = 0\n",
        "for i in range(1,51):\n",
        "  if i%2==0:\n",
        "    sum += i\n",
        "print(\"sum of all even numbers between 1 and 50 is: \",sum)\n",
        "\n",
        ""
      ],
      "metadata": {
        "id": "_tXWNiyO3eyS",
        "colab": {
          "base_uri": "https://localhost:8080/"
        },
        "outputId": "e4dc97cf-9fc3-407b-d2b9-e378af0b1ec4"
      },
      "execution_count": 23,
      "outputs": [
        {
          "output_type": "stream",
          "name": "stdout",
          "text": [
            "sum of all even numbers between 1 and 50 is:  650\n"
          ]
        }
      ]
    },
    {
      "cell_type": "markdown",
      "source": [
        "14.  Write a program to reverse a string using a while loop."
      ],
      "metadata": {
        "id": "QnXI_HUR4ApN"
      }
    },
    {
      "cell_type": "code",
      "source": [
        "a = input(\"enter a string: \")\n",
        "b = \"\"\n",
        "i = len(a)-1\n",
        "while i>=0:\n",
        "  b = b+a[i]\n",
        "  i = i-1\n",
        "print(b)"
      ],
      "metadata": {
        "id": "9jVN-Jx44BJ6",
        "colab": {
          "base_uri": "https://localhost:8080/"
        },
        "outputId": "f43492e8-cce8-4f21-f053-b0850b2fd7d6"
      },
      "execution_count": 14,
      "outputs": [
        {
          "output_type": "stream",
          "name": "stdout",
          "text": [
            "enter a string: khushi\n",
            "ihsuhk\n"
          ]
        }
      ]
    },
    {
      "cell_type": "markdown",
      "source": [
        "15. Write a Python program to calculate the factorial of a number provided by the user using a while loop ."
      ],
      "metadata": {
        "id": "WZiggnoN4Bf3"
      }
    },
    {
      "cell_type": "code",
      "source": [
        "a = int(input(\"enter a number: \"))\n",
        "fact = 1\n",
        "while a>0:\n",
        "  fact = fact*a\n",
        "  a = a-1\n",
        "print(fact)"
      ],
      "metadata": {
        "id": "1oGA-vB84B0M",
        "colab": {
          "base_uri": "https://localhost:8080/"
        },
        "outputId": "1b4789ef-bce6-423a-ba2d-10bc6496984f"
      },
      "execution_count": 15,
      "outputs": [
        {
          "output_type": "stream",
          "name": "stdout",
          "text": [
            "enter a number: 3\n",
            "6\n"
          ]
        }
      ]
    }
  ]
}